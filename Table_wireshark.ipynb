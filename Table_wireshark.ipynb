{
 "cells": [
  {
   "cell_type": "code",
   "execution_count": 30,
   "metadata": {},
   "outputs": [],
   "source": [
    "import pandas as pd"
   ]
  },
  {
   "cell_type": "code",
   "execution_count": 31,
   "metadata": {},
   "outputs": [],
   "source": [
    "must = pd.read_csv('dump.csv', sep = ',', header = 0)"
   ]
  },
  {
   "cell_type": "code",
   "execution_count": 32,
   "metadata": {},
   "outputs": [],
   "source": [
    "result = must.groupby(['Source', 'Protocol'])['No.'].count()"
   ]
  },
  {
   "cell_type": "code",
   "execution_count": 33,
   "metadata": {},
   "outputs": [],
   "source": [
    "df = pd.DataFrame(result)"
   ]
  },
  {
   "cell_type": "code",
   "execution_count": 37,
   "metadata": {},
   "outputs": [],
   "source": [
    "df = df.rename(columns = {'No.': 'Number'}) "
   ]
  },
  {
   "cell_type": "code",
   "execution_count": 38,
   "metadata": {},
   "outputs": [],
   "source": [
    "df.to_csv('dump_result.csv')"
   ]
  },
  {
   "cell_type": "code",
   "execution_count": 39,
   "metadata": {
    "scrolled": true
   },
   "outputs": [
    {
     "name": "stdout",
     "output_type": "stream",
     "text": [
      "Source                     Protocol\n",
      "162.254.198.131            TCP         1\n",
      "185.45.195.179             UDP         1\n",
      "192.168.1.2                LLMNR       2\n",
      "                           NBNS        3\n",
      "                           TCP         6\n",
      "                           TLSv1.2     5\n",
      "                           UDP         4\n",
      "213.137.90.194             UDP         1\n",
      "213.180.193.82             TCP         1\n",
      "31.13.72.52                TLSv1.2     1\n",
      "31.130.156.18              UDP         1\n",
      "52.230.83.250              TLSv1.2     1\n",
      "64.233.165.188             TCP         1\n",
      "77.88.55.70                TCP         3\n",
      "                           TLSv1.2     2\n",
      "90.154.72.125              UDP         1\n",
      "fe80::8000:f227:d7ae:8722  ICMPv6      1\n",
      "fe80::d7f:48b6:64a5:916d   LLMNR       2\n",
      "fe80::ffff:ffff:fffe       ICMPv6      3\n",
      "Name: No., dtype: int64\n"
     ]
    }
   ],
   "source": [
    "print(result)"
   ]
  }
 ],
 "metadata": {
  "kernelspec": {
   "display_name": "Python 3",
   "language": "python",
   "name": "python3"
  },
  "language_info": {
   "codemirror_mode": {
    "name": "ipython",
    "version": 3
   },
   "file_extension": ".py",
   "mimetype": "text/x-python",
   "name": "python",
   "nbconvert_exporter": "python",
   "pygments_lexer": "ipython3",
   "version": "3.7.1"
  }
 },
 "nbformat": 4,
 "nbformat_minor": 2
}
